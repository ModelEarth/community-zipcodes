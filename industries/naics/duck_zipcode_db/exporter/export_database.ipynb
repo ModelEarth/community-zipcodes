{
 "cells": [
  {
   "cell_type": "markdown",
   "metadata": {},
   "source": [
    "# Export Database\n",
    "\n",
    "In this notebook, we will perform the following steps to export data from a DuckDB database:\n",
    "1. Initialize the DataExporter class.\n",
    "2. Export data for all ZIP codes and industry levels.\n",
    "3. Verify the export results.\n",
    "\n",
    "This notebook will use the `DataExporter` class to handle data extraction and export operations.\n"
   ]
  },
  {
   "cell_type": "code",
   "execution_count": 1,
   "metadata": {},
   "outputs": [],
   "source": [
    "import os\n",
    "import logging\n",
    "import duckdb\n",
    "from multiprocessing import Pool\n",
    "from tqdm import tqdm\n",
    "import query as q\n",
    "from duck_db_exporter import DataExporter  # Assuming DataExporter is defined in data_exporter.py\n",
    "\n",
    "# Configure logging\n",
    "logging.basicConfig(level=logging.INFO)\n"
   ]
  },
  {
   "cell_type": "markdown",
   "metadata": {},
   "source": [
    "## I. Export Database\n",
    "- this is in the jupyterversion, there will also be a script version that be used by github action soon."
   ]
  },
  {
   "cell_type": "markdown",
   "metadata": {},
   "source": [
    "### Export a single annual data"
   ]
  },
  {
   "cell_type": "code",
   "execution_count": 2,
   "metadata": {},
   "outputs": [],
   "source": [
    "# Initialize DataExporter\n",
    "exporter = DataExporter(\n",
    "    base_db_path='../zip_data/duck_db_manager/database/',\n",
    "    threads=4,\n",
    "    export_dir='../../US/zip',\n",
    "    industry_levels=[2, 5, 6],  # Specify industry levels if needed\n",
    "    year=2019  # Specify the year for the data\n",
    ")"
   ]
  },
  {
   "cell_type": "code",
   "execution_count": 8,
   "metadata": {
    "scrolled": true
   },
   "outputs": [
    {
     "name": "stdout",
     "output_type": "stream",
     "text": [
      "Exported file: /Users/nivyni/Documents/Work_SDE/ModelEarth/WorkingRepos/ModelEarth-community-zipcodes/industries/naics/duck_zipcode_db/exporter/../../US/zip/CA/US-CA-census-naics2-zip-2019.csv\n",
      "Exported file: /Users/nivyni/Documents/Work_SDE/ModelEarth/WorkingRepos/ModelEarth-community-zipcodes/industries/naics/duck_zipcode_db/exporter/../../US/zip/CA/US-CA-census-naics5-zip-2019.csv\n",
      "Exported file: /Users/nivyni/Documents/Work_SDE/ModelEarth/WorkingRepos/ModelEarth-community-zipcodes/industries/naics/duck_zipcode_db/exporter/../../US/zip/CA/US-CA-census-naics6-zip-2019.csv\n",
      "Exported file: /Users/nivyni/Documents/Work_SDE/ModelEarth/WorkingRepos/ModelEarth-community-zipcodes/industries/naics/duck_zipcode_db/exporter/../../US/zip/GA/US-GA-census-naics2-zip-2019.csv\n",
      "Exported file: /Users/nivyni/Documents/Work_SDE/ModelEarth/WorkingRepos/ModelEarth-community-zipcodes/industries/naics/duck_zipcode_db/exporter/../../US/zip/GA/US-GA-census-naics5-zip-2019.csv\n",
      "Exported file: /Users/nivyni/Documents/Work_SDE/ModelEarth/WorkingRepos/ModelEarth-community-zipcodes/industries/naics/duck_zipcode_db/exporter/../../US/zip/GA/US-GA-census-naics6-zip-2019.csv\n",
      "Exported file: /Users/nivyni/Documents/Work_SDE/ModelEarth/WorkingRepos/ModelEarth-community-zipcodes/industries/naics/duck_zipcode_db/exporter/../../US/zip/MA/US-MA-census-naics2-zip-2019.csv\n",
      "Exported file: /Users/nivyni/Documents/Work_SDE/ModelEarth/WorkingRepos/ModelEarth-community-zipcodes/industries/naics/duck_zipcode_db/exporter/../../US/zip/MA/US-MA-census-naics5-zip-2019.csv\n",
      "Exported file: /Users/nivyni/Documents/Work_SDE/ModelEarth/WorkingRepos/ModelEarth-community-zipcodes/industries/naics/duck_zipcode_db/exporter/../../US/zip/MA/US-MA-census-naics6-zip-2019.csv\n",
      "Exported file: /Users/nivyni/Documents/Work_SDE/ModelEarth/WorkingRepos/ModelEarth-community-zipcodes/industries/naics/duck_zipcode_db/exporter/../../US/zip/UT/US-UT-census-naics2-zip-2019.csv\n",
      "Exported file: /Users/nivyni/Documents/Work_SDE/ModelEarth/WorkingRepos/ModelEarth-community-zipcodes/industries/naics/duck_zipcode_db/exporter/../../US/zip/UT/US-UT-census-naics5-zip-2019.csv\n",
      "Exported file: /Users/nivyni/Documents/Work_SDE/ModelEarth/WorkingRepos/ModelEarth-community-zipcodes/industries/naics/duck_zipcode_db/exporter/../../US/zip/UT/US-UT-census-naics6-zip-2019.csv\n",
      "Exported file: /Users/nivyni/Documents/Work_SDE/ModelEarth/WorkingRepos/ModelEarth-community-zipcodes/industries/naics/duck_zipcode_db/exporter/../../US/zip/NV/US-NV-census-naics2-zip-2019.csv\n",
      "Exported file: /Users/nivyni/Documents/Work_SDE/ModelEarth/WorkingRepos/ModelEarth-community-zipcodes/industries/naics/duck_zipcode_db/exporter/../../US/zip/NV/US-NV-census-naics5-zip-2019.csv\n",
      "Exported file: /Users/nivyni/Documents/Work_SDE/ModelEarth/WorkingRepos/ModelEarth-community-zipcodes/industries/naics/duck_zipcode_db/exporter/../../US/zip/NV/US-NV-census-naics6-zip-2019.csv\n",
      "Exported file: /Users/nivyni/Documents/Work_SDE/ModelEarth/WorkingRepos/ModelEarth-community-zipcodes/industries/naics/duck_zipcode_db/exporter/../../US/zip/SD/US-SD-census-naics2-zip-2019.csv\n",
      "Exported file: /Users/nivyni/Documents/Work_SDE/ModelEarth/WorkingRepos/ModelEarth-community-zipcodes/industries/naics/duck_zipcode_db/exporter/../../US/zip/SD/US-SD-census-naics5-zip-2019.csv\n",
      "Exported file: /Users/nivyni/Documents/Work_SDE/ModelEarth/WorkingRepos/ModelEarth-community-zipcodes/industries/naics/duck_zipcode_db/exporter/../../US/zip/SD/US-SD-census-naics6-zip-2019.csv\n",
      "Exported file: /Users/nivyni/Documents/Work_SDE/ModelEarth/WorkingRepos/ModelEarth-community-zipcodes/industries/naics/duck_zipcode_db/exporter/../../US/zip/WA/US-WA-census-naics2-zip-2019.csv\n",
      "Exported file: /Users/nivyni/Documents/Work_SDE/ModelEarth/WorkingRepos/ModelEarth-community-zipcodes/industries/naics/duck_zipcode_db/exporter/../../US/zip/WA/US-WA-census-naics5-zip-2019.csv\n",
      "Exported file: /Users/nivyni/Documents/Work_SDE/ModelEarth/WorkingRepos/ModelEarth-community-zipcodes/industries/naics/duck_zipcode_db/exporter/../../US/zip/WA/US-WA-census-naics6-zip-2019.csv\n",
      "Exported file: /Users/nivyni/Documents/Work_SDE/ModelEarth/WorkingRepos/ModelEarth-community-zipcodes/industries/naics/duck_zipcode_db/exporter/../../US/zip/ME/US-ME-census-naics2-zip-2019.csv\n",
      "Exported file: /Users/nivyni/Documents/Work_SDE/ModelEarth/WorkingRepos/ModelEarth-community-zipcodes/industries/naics/duck_zipcode_db/exporter/../../US/zip/ME/US-ME-census-naics5-zip-2019.csv\n",
      "Exported file: /Users/nivyni/Documents/Work_SDE/ModelEarth/WorkingRepos/ModelEarth-community-zipcodes/industries/naics/duck_zipcode_db/exporter/../../US/zip/ME/US-ME-census-naics6-zip-2019.csv\n",
      "Exported file: /Users/nivyni/Documents/Work_SDE/ModelEarth/WorkingRepos/ModelEarth-community-zipcodes/industries/naics/duck_zipcode_db/exporter/../../US/zip/KY/US-KY-census-naics2-zip-2019.csv\n",
      "Exported file: /Users/nivyni/Documents/Work_SDE/ModelEarth/WorkingRepos/ModelEarth-community-zipcodes/industries/naics/duck_zipcode_db/exporter/../../US/zip/KY/US-KY-census-naics5-zip-2019.csv\n",
      "Exported file: /Users/nivyni/Documents/Work_SDE/ModelEarth/WorkingRepos/ModelEarth-community-zipcodes/industries/naics/duck_zipcode_db/exporter/../../US/zip/KY/US-KY-census-naics6-zip-2019.csv\n",
      "Exported file: /Users/nivyni/Documents/Work_SDE/ModelEarth/WorkingRepos/ModelEarth-community-zipcodes/industries/naics/duck_zipcode_db/exporter/../../US/zip/NH/US-NH-census-naics2-zip-2019.csv\n",
      "Exported file: /Users/nivyni/Documents/Work_SDE/ModelEarth/WorkingRepos/ModelEarth-community-zipcodes/industries/naics/duck_zipcode_db/exporter/../../US/zip/NH/US-NH-census-naics5-zip-2019.csv\n",
      "Exported file: /Users/nivyni/Documents/Work_SDE/ModelEarth/WorkingRepos/ModelEarth-community-zipcodes/industries/naics/duck_zipcode_db/exporter/../../US/zip/NH/US-NH-census-naics6-zip-2019.csv\n",
      "Exported file: /Users/nivyni/Documents/Work_SDE/ModelEarth/WorkingRepos/ModelEarth-community-zipcodes/industries/naics/duck_zipcode_db/exporter/../../US/zip/CT/US-CT-census-naics2-zip-2019.csv\n",
      "Exported file: /Users/nivyni/Documents/Work_SDE/ModelEarth/WorkingRepos/ModelEarth-community-zipcodes/industries/naics/duck_zipcode_db/exporter/../../US/zip/CT/US-CT-census-naics5-zip-2019.csv\n",
      "Exported file: /Users/nivyni/Documents/Work_SDE/ModelEarth/WorkingRepos/ModelEarth-community-zipcodes/industries/naics/duck_zipcode_db/exporter/../../US/zip/CT/US-CT-census-naics6-zip-2019.csv\n",
      "Exported file: /Users/nivyni/Documents/Work_SDE/ModelEarth/WorkingRepos/ModelEarth-community-zipcodes/industries/naics/duck_zipcode_db/exporter/../../US/zip/RI/US-RI-census-naics2-zip-2019.csv\n",
      "Exported file: /Users/nivyni/Documents/Work_SDE/ModelEarth/WorkingRepos/ModelEarth-community-zipcodes/industries/naics/duck_zipcode_db/exporter/../../US/zip/RI/US-RI-census-naics5-zip-2019.csv\n",
      "Exported file: /Users/nivyni/Documents/Work_SDE/ModelEarth/WorkingRepos/ModelEarth-community-zipcodes/industries/naics/duck_zipcode_db/exporter/../../US/zip/RI/US-RI-census-naics6-zip-2019.csv\n",
      "Exported file: /Users/nivyni/Documents/Work_SDE/ModelEarth/WorkingRepos/ModelEarth-community-zipcodes/industries/naics/duck_zipcode_db/exporter/../../US/zip/CO/US-CO-census-naics2-zip-2019.csv\n",
      "Exported file: /Users/nivyni/Documents/Work_SDE/ModelEarth/WorkingRepos/ModelEarth-community-zipcodes/industries/naics/duck_zipcode_db/exporter/../../US/zip/CO/US-CO-census-naics5-zip-2019.csv\n",
      "Exported file: /Users/nivyni/Documents/Work_SDE/ModelEarth/WorkingRepos/ModelEarth-community-zipcodes/industries/naics/duck_zipcode_db/exporter/../../US/zip/CO/US-CO-census-naics6-zip-2019.csv\n",
      "Exported file: /Users/nivyni/Documents/Work_SDE/ModelEarth/WorkingRepos/ModelEarth-community-zipcodes/industries/naics/duck_zipcode_db/exporter/../../US/zip/AZ/US-AZ-census-naics2-zip-2019.csv\n",
      "Exported file: /Users/nivyni/Documents/Work_SDE/ModelEarth/WorkingRepos/ModelEarth-community-zipcodes/industries/naics/duck_zipcode_db/exporter/../../US/zip/AZ/US-AZ-census-naics5-zip-2019.csv\n",
      "Exported file: /Users/nivyni/Documents/Work_SDE/ModelEarth/WorkingRepos/ModelEarth-community-zipcodes/industries/naics/duck_zipcode_db/exporter/../../US/zip/AZ/US-AZ-census-naics6-zip-2019.csv\n",
      "Exported file: /Users/nivyni/Documents/Work_SDE/ModelEarth/WorkingRepos/ModelEarth-community-zipcodes/industries/naics/duck_zipcode_db/exporter/../../US/zip/MD/US-MD-census-naics2-zip-2019.csv\n",
      "Exported file: /Users/nivyni/Documents/Work_SDE/ModelEarth/WorkingRepos/ModelEarth-community-zipcodes/industries/naics/duck_zipcode_db/exporter/../../US/zip/MD/US-MD-census-naics5-zip-2019.csv\n",
      "Exported file: /Users/nivyni/Documents/Work_SDE/ModelEarth/WorkingRepos/ModelEarth-community-zipcodes/industries/naics/duck_zipcode_db/exporter/../../US/zip/MD/US-MD-census-naics6-zip-2019.csv\n",
      "Exported file: /Users/nivyni/Documents/Work_SDE/ModelEarth/WorkingRepos/ModelEarth-community-zipcodes/industries/naics/duck_zipcode_db/exporter/../../US/zip/OK/US-OK-census-naics2-zip-2019.csv\n",
      "Exported file: /Users/nivyni/Documents/Work_SDE/ModelEarth/WorkingRepos/ModelEarth-community-zipcodes/industries/naics/duck_zipcode_db/exporter/../../US/zip/OK/US-OK-census-naics5-zip-2019.csv\n",
      "Exported file: /Users/nivyni/Documents/Work_SDE/ModelEarth/WorkingRepos/ModelEarth-community-zipcodes/industries/naics/duck_zipcode_db/exporter/../../US/zip/OK/US-OK-census-naics6-zip-2019.csv\n",
      "Exported file: /Users/nivyni/Documents/Work_SDE/ModelEarth/WorkingRepos/ModelEarth-community-zipcodes/industries/naics/duck_zipcode_db/exporter/../../US/zip/NC/US-NC-census-naics2-zip-2019.csv\n",
      "Exported file: /Users/nivyni/Documents/Work_SDE/ModelEarth/WorkingRepos/ModelEarth-community-zipcodes/industries/naics/duck_zipcode_db/exporter/../../US/zip/NC/US-NC-census-naics5-zip-2019.csv\n",
      "Exported file: /Users/nivyni/Documents/Work_SDE/ModelEarth/WorkingRepos/ModelEarth-community-zipcodes/industries/naics/duck_zipcode_db/exporter/../../US/zip/NC/US-NC-census-naics6-zip-2019.csv\n",
      "Exported file: /Users/nivyni/Documents/Work_SDE/ModelEarth/WorkingRepos/ModelEarth-community-zipcodes/industries/naics/duck_zipcode_db/exporter/../../US/zip/KS/US-KS-census-naics2-zip-2019.csv\n",
      "Exported file: /Users/nivyni/Documents/Work_SDE/ModelEarth/WorkingRepos/ModelEarth-community-zipcodes/industries/naics/duck_zipcode_db/exporter/../../US/zip/KS/US-KS-census-naics5-zip-2019.csv\n",
      "Exported file: /Users/nivyni/Documents/Work_SDE/ModelEarth/WorkingRepos/ModelEarth-community-zipcodes/industries/naics/duck_zipcode_db/exporter/../../US/zip/KS/US-KS-census-naics6-zip-2019.csv\n",
      "Exported file: /Users/nivyni/Documents/Work_SDE/ModelEarth/WorkingRepos/ModelEarth-community-zipcodes/industries/naics/duck_zipcode_db/exporter/../../US/zip/MN/US-MN-census-naics2-zip-2019.csv\n",
      "Exported file: /Users/nivyni/Documents/Work_SDE/ModelEarth/WorkingRepos/ModelEarth-community-zipcodes/industries/naics/duck_zipcode_db/exporter/../../US/zip/MN/US-MN-census-naics5-zip-2019.csv\n",
      "Exported file: /Users/nivyni/Documents/Work_SDE/ModelEarth/WorkingRepos/ModelEarth-community-zipcodes/industries/naics/duck_zipcode_db/exporter/../../US/zip/MN/US-MN-census-naics6-zip-2019.csv\n",
      "Exported file: /Users/nivyni/Documents/Work_SDE/ModelEarth/WorkingRepos/ModelEarth-community-zipcodes/industries/naics/duck_zipcode_db/exporter/../../US/zip/ID/US-ID-census-naics2-zip-2019.csv\n",
      "Exported file: /Users/nivyni/Documents/Work_SDE/ModelEarth/WorkingRepos/ModelEarth-community-zipcodes/industries/naics/duck_zipcode_db/exporter/../../US/zip/ID/US-ID-census-naics5-zip-2019.csv\n",
      "Exported file: /Users/nivyni/Documents/Work_SDE/ModelEarth/WorkingRepos/ModelEarth-community-zipcodes/industries/naics/duck_zipcode_db/exporter/../../US/zip/ID/US-ID-census-naics6-zip-2019.csv\n",
      "Exported file: /Users/nivyni/Documents/Work_SDE/ModelEarth/WorkingRepos/ModelEarth-community-zipcodes/industries/naics/duck_zipcode_db/exporter/../../US/zip/AR/US-AR-census-naics2-zip-2019.csv\n",
      "Exported file: /Users/nivyni/Documents/Work_SDE/ModelEarth/WorkingRepos/ModelEarth-community-zipcodes/industries/naics/duck_zipcode_db/exporter/../../US/zip/AR/US-AR-census-naics5-zip-2019.csv\n",
      "Exported file: /Users/nivyni/Documents/Work_SDE/ModelEarth/WorkingRepos/ModelEarth-community-zipcodes/industries/naics/duck_zipcode_db/exporter/../../US/zip/AR/US-AR-census-naics6-zip-2019.csv\n",
      "Exported file: /Users/nivyni/Documents/Work_SDE/ModelEarth/WorkingRepos/ModelEarth-community-zipcodes/industries/naics/duck_zipcode_db/exporter/../../US/zip/TX/US-TX-census-naics2-zip-2019.csv\n",
      "Exported file: /Users/nivyni/Documents/Work_SDE/ModelEarth/WorkingRepos/ModelEarth-community-zipcodes/industries/naics/duck_zipcode_db/exporter/../../US/zip/TX/US-TX-census-naics5-zip-2019.csv\n",
      "Exported file: /Users/nivyni/Documents/Work_SDE/ModelEarth/WorkingRepos/ModelEarth-community-zipcodes/industries/naics/duck_zipcode_db/exporter/../../US/zip/TX/US-TX-census-naics6-zip-2019.csv\n",
      "Exported file: /Users/nivyni/Documents/Work_SDE/ModelEarth/WorkingRepos/ModelEarth-community-zipcodes/industries/naics/duck_zipcode_db/exporter/../../US/zip/WV/US-WV-census-naics2-zip-2019.csv\n",
      "Exported file: /Users/nivyni/Documents/Work_SDE/ModelEarth/WorkingRepos/ModelEarth-community-zipcodes/industries/naics/duck_zipcode_db/exporter/../../US/zip/WV/US-WV-census-naics5-zip-2019.csv\n",
      "Exported file: /Users/nivyni/Documents/Work_SDE/ModelEarth/WorkingRepos/ModelEarth-community-zipcodes/industries/naics/duck_zipcode_db/exporter/../../US/zip/WV/US-WV-census-naics6-zip-2019.csv\n",
      "Exported file: /Users/nivyni/Documents/Work_SDE/ModelEarth/WorkingRepos/ModelEarth-community-zipcodes/industries/naics/duck_zipcode_db/exporter/../../US/zip/AK/US-AK-census-naics2-zip-2019.csv\n",
      "Exported file: /Users/nivyni/Documents/Work_SDE/ModelEarth/WorkingRepos/ModelEarth-community-zipcodes/industries/naics/duck_zipcode_db/exporter/../../US/zip/AK/US-AK-census-naics5-zip-2019.csv\n",
      "Exported file: /Users/nivyni/Documents/Work_SDE/ModelEarth/WorkingRepos/ModelEarth-community-zipcodes/industries/naics/duck_zipcode_db/exporter/../../US/zip/AK/US-AK-census-naics6-zip-2019.csv\n",
      "Exported file: /Users/nivyni/Documents/Work_SDE/ModelEarth/WorkingRepos/ModelEarth-community-zipcodes/industries/naics/duck_zipcode_db/exporter/../../US/zip/FL/US-FL-census-naics2-zip-2019.csv\n",
      "Exported file: /Users/nivyni/Documents/Work_SDE/ModelEarth/WorkingRepos/ModelEarth-community-zipcodes/industries/naics/duck_zipcode_db/exporter/../../US/zip/FL/US-FL-census-naics5-zip-2019.csv\n",
      "Exported file: /Users/nivyni/Documents/Work_SDE/ModelEarth/WorkingRepos/ModelEarth-community-zipcodes/industries/naics/duck_zipcode_db/exporter/../../US/zip/FL/US-FL-census-naics6-zip-2019.csv\n",
      "Exported file: /Users/nivyni/Documents/Work_SDE/ModelEarth/WorkingRepos/ModelEarth-community-zipcodes/industries/naics/duck_zipcode_db/exporter/../../US/zip/VT/US-VT-census-naics2-zip-2019.csv\n",
      "Exported file: /Users/nivyni/Documents/Work_SDE/ModelEarth/WorkingRepos/ModelEarth-community-zipcodes/industries/naics/duck_zipcode_db/exporter/../../US/zip/VT/US-VT-census-naics5-zip-2019.csv\n",
      "Exported file: /Users/nivyni/Documents/Work_SDE/ModelEarth/WorkingRepos/ModelEarth-community-zipcodes/industries/naics/duck_zipcode_db/exporter/../../US/zip/VT/US-VT-census-naics6-zip-2019.csv\n",
      "Exported file: /Users/nivyni/Documents/Work_SDE/ModelEarth/WorkingRepos/ModelEarth-community-zipcodes/industries/naics/duck_zipcode_db/exporter/../../US/zip/NotSpecified/US-NotSpecified-census-naics2-zip-2019.csv\n",
      "Exported file: /Users/nivyni/Documents/Work_SDE/ModelEarth/WorkingRepos/ModelEarth-community-zipcodes/industries/naics/duck_zipcode_db/exporter/../../US/zip/NotSpecified/US-NotSpecified-census-naics5-zip-2019.csv\n",
      "Exported file: /Users/nivyni/Documents/Work_SDE/ModelEarth/WorkingRepos/ModelEarth-community-zipcodes/industries/naics/duck_zipcode_db/exporter/../../US/zip/NotSpecified/US-NotSpecified-census-naics6-zip-2019.csv\n",
      "Exported file: /Users/nivyni/Documents/Work_SDE/ModelEarth/WorkingRepos/ModelEarth-community-zipcodes/industries/naics/duck_zipcode_db/exporter/../../US/zip/TN/US-TN-census-naics2-zip-2019.csv\n",
      "Exported file: /Users/nivyni/Documents/Work_SDE/ModelEarth/WorkingRepos/ModelEarth-community-zipcodes/industries/naics/duck_zipcode_db/exporter/../../US/zip/TN/US-TN-census-naics5-zip-2019.csv\n",
      "Exported file: /Users/nivyni/Documents/Work_SDE/ModelEarth/WorkingRepos/ModelEarth-community-zipcodes/industries/naics/duck_zipcode_db/exporter/../../US/zip/TN/US-TN-census-naics6-zip-2019.csv\n",
      "Exported file: /Users/nivyni/Documents/Work_SDE/ModelEarth/WorkingRepos/ModelEarth-community-zipcodes/industries/naics/duck_zipcode_db/exporter/../../US/zip/SC/US-SC-census-naics2-zip-2019.csv\n",
      "Exported file: /Users/nivyni/Documents/Work_SDE/ModelEarth/WorkingRepos/ModelEarth-community-zipcodes/industries/naics/duck_zipcode_db/exporter/../../US/zip/SC/US-SC-census-naics5-zip-2019.csv\n",
      "Exported file: /Users/nivyni/Documents/Work_SDE/ModelEarth/WorkingRepos/ModelEarth-community-zipcodes/industries/naics/duck_zipcode_db/exporter/../../US/zip/SC/US-SC-census-naics6-zip-2019.csv\n",
      "Exported file: /Users/nivyni/Documents/Work_SDE/ModelEarth/WorkingRepos/ModelEarth-community-zipcodes/industries/naics/duck_zipcode_db/exporter/../../US/zip/IA/US-IA-census-naics2-zip-2019.csv\n",
      "Exported file: /Users/nivyni/Documents/Work_SDE/ModelEarth/WorkingRepos/ModelEarth-community-zipcodes/industries/naics/duck_zipcode_db/exporter/../../US/zip/IA/US-IA-census-naics5-zip-2019.csv\n",
      "Exported file: /Users/nivyni/Documents/Work_SDE/ModelEarth/WorkingRepos/ModelEarth-community-zipcodes/industries/naics/duck_zipcode_db/exporter/../../US/zip/IA/US-IA-census-naics6-zip-2019.csv\n",
      "Exported file: /Users/nivyni/Documents/Work_SDE/ModelEarth/WorkingRepos/ModelEarth-community-zipcodes/industries/naics/duck_zipcode_db/exporter/../../US/zip/ND/US-ND-census-naics2-zip-2019.csv\n",
      "Exported file: /Users/nivyni/Documents/Work_SDE/ModelEarth/WorkingRepos/ModelEarth-community-zipcodes/industries/naics/duck_zipcode_db/exporter/../../US/zip/ND/US-ND-census-naics5-zip-2019.csv\n",
      "Exported file: /Users/nivyni/Documents/Work_SDE/ModelEarth/WorkingRepos/ModelEarth-community-zipcodes/industries/naics/duck_zipcode_db/exporter/../../US/zip/ND/US-ND-census-naics6-zip-2019.csv\n",
      "Exported file: /Users/nivyni/Documents/Work_SDE/ModelEarth/WorkingRepos/ModelEarth-community-zipcodes/industries/naics/duck_zipcode_db/exporter/../../US/zip/PA/US-PA-census-naics2-zip-2019.csv\n",
      "Exported file: /Users/nivyni/Documents/Work_SDE/ModelEarth/WorkingRepos/ModelEarth-community-zipcodes/industries/naics/duck_zipcode_db/exporter/../../US/zip/PA/US-PA-census-naics5-zip-2019.csv\n",
      "Exported file: /Users/nivyni/Documents/Work_SDE/ModelEarth/WorkingRepos/ModelEarth-community-zipcodes/industries/naics/duck_zipcode_db/exporter/../../US/zip/PA/US-PA-census-naics6-zip-2019.csv\n",
      "Exported file: /Users/nivyni/Documents/Work_SDE/ModelEarth/WorkingRepos/ModelEarth-community-zipcodes/industries/naics/duck_zipcode_db/exporter/../../US/zip/MI/US-MI-census-naics2-zip-2019.csv\n",
      "Exported file: /Users/nivyni/Documents/Work_SDE/ModelEarth/WorkingRepos/ModelEarth-community-zipcodes/industries/naics/duck_zipcode_db/exporter/../../US/zip/MI/US-MI-census-naics5-zip-2019.csv\n",
      "Exported file: /Users/nivyni/Documents/Work_SDE/ModelEarth/WorkingRepos/ModelEarth-community-zipcodes/industries/naics/duck_zipcode_db/exporter/../../US/zip/MI/US-MI-census-naics6-zip-2019.csv\n",
      "Exported file: /Users/nivyni/Documents/Work_SDE/ModelEarth/WorkingRepos/ModelEarth-community-zipcodes/industries/naics/duck_zipcode_db/exporter/../../US/zip/AL/US-AL-census-naics2-zip-2019.csv\n",
      "Exported file: /Users/nivyni/Documents/Work_SDE/ModelEarth/WorkingRepos/ModelEarth-community-zipcodes/industries/naics/duck_zipcode_db/exporter/../../US/zip/AL/US-AL-census-naics5-zip-2019.csv\n",
      "Exported file: /Users/nivyni/Documents/Work_SDE/ModelEarth/WorkingRepos/ModelEarth-community-zipcodes/industries/naics/duck_zipcode_db/exporter/../../US/zip/AL/US-AL-census-naics6-zip-2019.csv\n",
      "Exported file: /Users/nivyni/Documents/Work_SDE/ModelEarth/WorkingRepos/ModelEarth-community-zipcodes/industries/naics/duck_zipcode_db/exporter/../../US/zip/MS/US-MS-census-naics2-zip-2019.csv\n",
      "Exported file: /Users/nivyni/Documents/Work_SDE/ModelEarth/WorkingRepos/ModelEarth-community-zipcodes/industries/naics/duck_zipcode_db/exporter/../../US/zip/MS/US-MS-census-naics5-zip-2019.csv\n",
      "Exported file: /Users/nivyni/Documents/Work_SDE/ModelEarth/WorkingRepos/ModelEarth-community-zipcodes/industries/naics/duck_zipcode_db/exporter/../../US/zip/MS/US-MS-census-naics6-zip-2019.csv\n",
      "Exported file: /Users/nivyni/Documents/Work_SDE/ModelEarth/WorkingRepos/ModelEarth-community-zipcodes/industries/naics/duck_zipcode_db/exporter/../../US/zip/WY/US-WY-census-naics2-zip-2019.csv\n",
      "Exported file: /Users/nivyni/Documents/Work_SDE/ModelEarth/WorkingRepos/ModelEarth-community-zipcodes/industries/naics/duck_zipcode_db/exporter/../../US/zip/WY/US-WY-census-naics5-zip-2019.csv\n",
      "Exported file: /Users/nivyni/Documents/Work_SDE/ModelEarth/WorkingRepos/ModelEarth-community-zipcodes/industries/naics/duck_zipcode_db/exporter/../../US/zip/WY/US-WY-census-naics6-zip-2019.csv\n",
      "Exported file: /Users/nivyni/Documents/Work_SDE/ModelEarth/WorkingRepos/ModelEarth-community-zipcodes/industries/naics/duck_zipcode_db/exporter/../../US/zip/IL/US-IL-census-naics2-zip-2019.csv\n",
      "Exported file: /Users/nivyni/Documents/Work_SDE/ModelEarth/WorkingRepos/ModelEarth-community-zipcodes/industries/naics/duck_zipcode_db/exporter/../../US/zip/IL/US-IL-census-naics5-zip-2019.csv\n",
      "Exported file: /Users/nivyni/Documents/Work_SDE/ModelEarth/WorkingRepos/ModelEarth-community-zipcodes/industries/naics/duck_zipcode_db/exporter/../../US/zip/IL/US-IL-census-naics6-zip-2019.csv\n",
      "Exported file: /Users/nivyni/Documents/Work_SDE/ModelEarth/WorkingRepos/ModelEarth-community-zipcodes/industries/naics/duck_zipcode_db/exporter/../../US/zip/NY/US-NY-census-naics2-zip-2019.csv\n",
      "Exported file: /Users/nivyni/Documents/Work_SDE/ModelEarth/WorkingRepos/ModelEarth-community-zipcodes/industries/naics/duck_zipcode_db/exporter/../../US/zip/NY/US-NY-census-naics5-zip-2019.csv\n",
      "Exported file: /Users/nivyni/Documents/Work_SDE/ModelEarth/WorkingRepos/ModelEarth-community-zipcodes/industries/naics/duck_zipcode_db/exporter/../../US/zip/NY/US-NY-census-naics6-zip-2019.csv\n",
      "Exported file: /Users/nivyni/Documents/Work_SDE/ModelEarth/WorkingRepos/ModelEarth-community-zipcodes/industries/naics/duck_zipcode_db/exporter/../../US/zip/NJ/US-NJ-census-naics2-zip-2019.csv\n",
      "Exported file: /Users/nivyni/Documents/Work_SDE/ModelEarth/WorkingRepos/ModelEarth-community-zipcodes/industries/naics/duck_zipcode_db/exporter/../../US/zip/NJ/US-NJ-census-naics5-zip-2019.csv\n",
      "Exported file: /Users/nivyni/Documents/Work_SDE/ModelEarth/WorkingRepos/ModelEarth-community-zipcodes/industries/naics/duck_zipcode_db/exporter/../../US/zip/NJ/US-NJ-census-naics6-zip-2019.csv\n",
      "Exported file: /Users/nivyni/Documents/Work_SDE/ModelEarth/WorkingRepos/ModelEarth-community-zipcodes/industries/naics/duck_zipcode_db/exporter/../../US/zip/MT/US-MT-census-naics2-zip-2019.csv\n",
      "Exported file: /Users/nivyni/Documents/Work_SDE/ModelEarth/WorkingRepos/ModelEarth-community-zipcodes/industries/naics/duck_zipcode_db/exporter/../../US/zip/MT/US-MT-census-naics5-zip-2019.csv\n",
      "Exported file: /Users/nivyni/Documents/Work_SDE/ModelEarth/WorkingRepos/ModelEarth-community-zipcodes/industries/naics/duck_zipcode_db/exporter/../../US/zip/MT/US-MT-census-naics6-zip-2019.csv\n",
      "Exported file: /Users/nivyni/Documents/Work_SDE/ModelEarth/WorkingRepos/ModelEarth-community-zipcodes/industries/naics/duck_zipcode_db/exporter/../../US/zip/DE/US-DE-census-naics2-zip-2019.csv\n",
      "Exported file: /Users/nivyni/Documents/Work_SDE/ModelEarth/WorkingRepos/ModelEarth-community-zipcodes/industries/naics/duck_zipcode_db/exporter/../../US/zip/DE/US-DE-census-naics5-zip-2019.csv\n",
      "Exported file: /Users/nivyni/Documents/Work_SDE/ModelEarth/WorkingRepos/ModelEarth-community-zipcodes/industries/naics/duck_zipcode_db/exporter/../../US/zip/DE/US-DE-census-naics6-zip-2019.csv\n",
      "Exported file: /Users/nivyni/Documents/Work_SDE/ModelEarth/WorkingRepos/ModelEarth-community-zipcodes/industries/naics/duck_zipcode_db/exporter/../../US/zip/OH/US-OH-census-naics2-zip-2019.csv\n",
      "Exported file: /Users/nivyni/Documents/Work_SDE/ModelEarth/WorkingRepos/ModelEarth-community-zipcodes/industries/naics/duck_zipcode_db/exporter/../../US/zip/OH/US-OH-census-naics5-zip-2019.csv\n",
      "Exported file: /Users/nivyni/Documents/Work_SDE/ModelEarth/WorkingRepos/ModelEarth-community-zipcodes/industries/naics/duck_zipcode_db/exporter/../../US/zip/OH/US-OH-census-naics6-zip-2019.csv\n",
      "Exported file: /Users/nivyni/Documents/Work_SDE/ModelEarth/WorkingRepos/ModelEarth-community-zipcodes/industries/naics/duck_zipcode_db/exporter/../../US/zip/IN/US-IN-census-naics2-zip-2019.csv\n",
      "Exported file: /Users/nivyni/Documents/Work_SDE/ModelEarth/WorkingRepos/ModelEarth-community-zipcodes/industries/naics/duck_zipcode_db/exporter/../../US/zip/IN/US-IN-census-naics5-zip-2019.csv\n",
      "Exported file: /Users/nivyni/Documents/Work_SDE/ModelEarth/WorkingRepos/ModelEarth-community-zipcodes/industries/naics/duck_zipcode_db/exporter/../../US/zip/IN/US-IN-census-naics6-zip-2019.csv\n",
      "Exported file: /Users/nivyni/Documents/Work_SDE/ModelEarth/WorkingRepos/ModelEarth-community-zipcodes/industries/naics/duck_zipcode_db/exporter/../../US/zip/NE/US-NE-census-naics2-zip-2019.csv\n",
      "Exported file: /Users/nivyni/Documents/Work_SDE/ModelEarth/WorkingRepos/ModelEarth-community-zipcodes/industries/naics/duck_zipcode_db/exporter/../../US/zip/NE/US-NE-census-naics5-zip-2019.csv\n",
      "Exported file: /Users/nivyni/Documents/Work_SDE/ModelEarth/WorkingRepos/ModelEarth-community-zipcodes/industries/naics/duck_zipcode_db/exporter/../../US/zip/NE/US-NE-census-naics6-zip-2019.csv\n",
      "Exported file: /Users/nivyni/Documents/Work_SDE/ModelEarth/WorkingRepos/ModelEarth-community-zipcodes/industries/naics/duck_zipcode_db/exporter/../../US/zip/WI/US-WI-census-naics2-zip-2019.csv\n",
      "Exported file: /Users/nivyni/Documents/Work_SDE/ModelEarth/WorkingRepos/ModelEarth-community-zipcodes/industries/naics/duck_zipcode_db/exporter/../../US/zip/WI/US-WI-census-naics5-zip-2019.csv\n",
      "Exported file: /Users/nivyni/Documents/Work_SDE/ModelEarth/WorkingRepos/ModelEarth-community-zipcodes/industries/naics/duck_zipcode_db/exporter/../../US/zip/WI/US-WI-census-naics6-zip-2019.csv\n",
      "Exported file: /Users/nivyni/Documents/Work_SDE/ModelEarth/WorkingRepos/ModelEarth-community-zipcodes/industries/naics/duck_zipcode_db/exporter/../../US/zip/LA/US-LA-census-naics2-zip-2019.csv\n",
      "Exported file: /Users/nivyni/Documents/Work_SDE/ModelEarth/WorkingRepos/ModelEarth-community-zipcodes/industries/naics/duck_zipcode_db/exporter/../../US/zip/LA/US-LA-census-naics5-zip-2019.csv\n",
      "Exported file: /Users/nivyni/Documents/Work_SDE/ModelEarth/WorkingRepos/ModelEarth-community-zipcodes/industries/naics/duck_zipcode_db/exporter/../../US/zip/LA/US-LA-census-naics6-zip-2019.csv\n",
      "Exported file: /Users/nivyni/Documents/Work_SDE/ModelEarth/WorkingRepos/ModelEarth-community-zipcodes/industries/naics/duck_zipcode_db/exporter/../../US/zip/HI/US-HI-census-naics2-zip-2019.csv\n",
      "Exported file: /Users/nivyni/Documents/Work_SDE/ModelEarth/WorkingRepos/ModelEarth-community-zipcodes/industries/naics/duck_zipcode_db/exporter/../../US/zip/HI/US-HI-census-naics5-zip-2019.csv\n",
      "Exported file: /Users/nivyni/Documents/Work_SDE/ModelEarth/WorkingRepos/ModelEarth-community-zipcodes/industries/naics/duck_zipcode_db/exporter/../../US/zip/HI/US-HI-census-naics6-zip-2019.csv\n",
      "Exported file: /Users/nivyni/Documents/Work_SDE/ModelEarth/WorkingRepos/ModelEarth-community-zipcodes/industries/naics/duck_zipcode_db/exporter/../../US/zip/DC/US-DC-census-naics2-zip-2019.csv\n",
      "Exported file: /Users/nivyni/Documents/Work_SDE/ModelEarth/WorkingRepos/ModelEarth-community-zipcodes/industries/naics/duck_zipcode_db/exporter/../../US/zip/DC/US-DC-census-naics5-zip-2019.csv\n",
      "Exported file: /Users/nivyni/Documents/Work_SDE/ModelEarth/WorkingRepos/ModelEarth-community-zipcodes/industries/naics/duck_zipcode_db/exporter/../../US/zip/DC/US-DC-census-naics6-zip-2019.csv\n",
      "Exported file: /Users/nivyni/Documents/Work_SDE/ModelEarth/WorkingRepos/ModelEarth-community-zipcodes/industries/naics/duck_zipcode_db/exporter/../../US/zip/VA/US-VA-census-naics2-zip-2019.csv\n",
      "Exported file: /Users/nivyni/Documents/Work_SDE/ModelEarth/WorkingRepos/ModelEarth-community-zipcodes/industries/naics/duck_zipcode_db/exporter/../../US/zip/VA/US-VA-census-naics5-zip-2019.csv\n",
      "Exported file: /Users/nivyni/Documents/Work_SDE/ModelEarth/WorkingRepos/ModelEarth-community-zipcodes/industries/naics/duck_zipcode_db/exporter/../../US/zip/VA/US-VA-census-naics6-zip-2019.csv\n",
      "Exported file: /Users/nivyni/Documents/Work_SDE/ModelEarth/WorkingRepos/ModelEarth-community-zipcodes/industries/naics/duck_zipcode_db/exporter/../../US/zip/NM/US-NM-census-naics2-zip-2019.csv\n",
      "Exported file: /Users/nivyni/Documents/Work_SDE/ModelEarth/WorkingRepos/ModelEarth-community-zipcodes/industries/naics/duck_zipcode_db/exporter/../../US/zip/NM/US-NM-census-naics5-zip-2019.csv\n",
      "Exported file: /Users/nivyni/Documents/Work_SDE/ModelEarth/WorkingRepos/ModelEarth-community-zipcodes/industries/naics/duck_zipcode_db/exporter/../../US/zip/NM/US-NM-census-naics6-zip-2019.csv\n",
      "Exported file: /Users/nivyni/Documents/Work_SDE/ModelEarth/WorkingRepos/ModelEarth-community-zipcodes/industries/naics/duck_zipcode_db/exporter/../../US/zip/MO/US-MO-census-naics2-zip-2019.csv\n",
      "Exported file: /Users/nivyni/Documents/Work_SDE/ModelEarth/WorkingRepos/ModelEarth-community-zipcodes/industries/naics/duck_zipcode_db/exporter/../../US/zip/MO/US-MO-census-naics5-zip-2019.csv\n",
      "Exported file: /Users/nivyni/Documents/Work_SDE/ModelEarth/WorkingRepos/ModelEarth-community-zipcodes/industries/naics/duck_zipcode_db/exporter/../../US/zip/MO/US-MO-census-naics6-zip-2019.csv\n",
      "Exported file: /Users/nivyni/Documents/Work_SDE/ModelEarth/WorkingRepos/ModelEarth-community-zipcodes/industries/naics/duck_zipcode_db/exporter/../../US/zip/OR/US-OR-census-naics2-zip-2019.csv\n",
      "Exported file: /Users/nivyni/Documents/Work_SDE/ModelEarth/WorkingRepos/ModelEarth-community-zipcodes/industries/naics/duck_zipcode_db/exporter/../../US/zip/OR/US-OR-census-naics5-zip-2019.csv\n",
      "Exported file: /Users/nivyni/Documents/Work_SDE/ModelEarth/WorkingRepos/ModelEarth-community-zipcodes/industries/naics/duck_zipcode_db/exporter/../../US/zip/OR/US-OR-census-naics6-zip-2019.csv\n"
     ]
    }
   ],
   "source": [
    "# Export data for all states\n",
    "file_paths = exporter.make_csv()  # No state specified\n",
    "\n",
    "for file_path in file_paths:\n",
    "    print(f\"Exported file: {file_path}\")"
   ]
  },
  {
   "cell_type": "markdown",
   "metadata": {},
   "source": [
    "### Export all annual data in a single run"
   ]
  },
  {
   "cell_type": "code",
   "execution_count": null,
   "metadata": {},
   "outputs": [],
   "source": []
  },
  {
   "cell_type": "markdown",
   "metadata": {},
   "source": [
    "## II. Unit Test After Export\n",
    "\n",
    "In this section, we will validate the consistency of the exported CSV files with the original DuckDB database. The tests will ensure that the exported files contain the expected data and match the data from the database.\n",
    "\n",
    "We will perform the following tests:\n",
    "1. Check the number of rows in the exported CSV files.\n",
    "2. Validate that the data in the CSV files matches the data in the DuckDB database.\n"
   ]
  },
  {
   "cell_type": "markdown",
   "metadata": {},
   "source": [
    "### II.(a) Unit Test for Data Exporter Accuracy\n",
    "\n",
    "This notebook validates the accuracy of data exported by the `DataExporter` class. It ensures that the exported CSV files correctly reflect the data in the DuckDB database.\n",
    "\n",
    "#### Description\n",
    "\n",
    "The notebook performs the following tasks:\n",
    "- **Setup**: Creates a temporary DuckDB database with test data.\n",
    "- **Export**: Uses the `DataExporter` to generate CSV files.\n",
    "- **Validation**: \n",
    "  - Checks that the number of rows in the CSV files matches the database.\n",
    "  - Verifies that the data in the CSV files is consistent with the database.\n",
    "- **Teardown**: Removes test files and the temporary database.\n",
    "\n",
    "#### Key Tests\n",
    "\n",
    "- **Row Count Check**: Ensures that the number of rows in the exported CSV files matches those in the database.\n",
    "- **Data Consistency Check**: Confirms that the data values and types in the CSV files align with the database.\n",
    "\n",
    "#### Usage\n",
    "\n",
    "Execute the cells in the notebook to perform the tests. The notebook will automatically set up the test environment, run the validations, and clean up afterward.\n"
   ]
  },
  {
   "cell_type": "code",
   "execution_count": null,
   "metadata": {},
   "outputs": [],
   "source": [
    "# Execute the test script\n",
    "%run test_data_exporter.py"
   ]
  },
  {
   "cell_type": "markdown",
   "metadata": {},
   "source": [
    "### II.(b) Data Export Validation Test\n",
    "\n",
    "This test ensures that the CSV files exported from our DuckDB database match the data stored in the database.\n",
    "\n",
    "**Description:**\n",
    "The `DataExporterTest` class validates the accuracy of exported CSV files by comparing them with the data in the DuckDB database. This process checks for consistency across all states and industry levels, ensuring that the exported files correctly represent the database records.\n",
    "\n",
    "**Key Tests:**\n",
    "1. **Initialization:** Configure the `DataExporterTest` with the target year and directory paths.\n",
    "2. **Data Fetching:** Retrieve data from the database for all states and industry levels.\n",
    "3. **CSV Comparison:** Compare the contents of each CSV file with the corresponding database data.\n",
    "4. **Mismatch Reporting:** Log any discrepancies with detailed information, including file paths and data previews.\n",
    "\n",
    "**Usage:**\n",
    "To run the test:\n",
    "1. Initialize the `DataExporterTest` with the desired year and directory paths.\n",
    "2. Execute the test script.\n",
    "3. Review the logs for any discrepancies between the CSV files and the database data.\n",
    "\n",
    "The test will help ensure the integrity and accuracy of the exported data files.\n"
   ]
  },
  {
   "cell_type": "code",
   "execution_count": 3,
   "metadata": {},
   "outputs": [],
   "source": [
    "from test_data_exporter_accuracy import DataExporterTest"
   ]
  },
  {
   "cell_type": "code",
   "execution_count": 4,
   "metadata": {},
   "outputs": [
    {
     "name": "stdout",
     "output_type": "stream",
     "text": [
      "All CSV files match the database data by row count.\n"
     ]
    }
   ],
   "source": [
    "# Replace the year with your desired year\n",
    "tester = DataExporterTest(year=2019)\n",
    "tester.run_test()"
   ]
  },
  {
   "cell_type": "code",
   "execution_count": null,
   "metadata": {},
   "outputs": [],
   "source": []
  }
 ],
 "metadata": {
  "kernelspec": {
   "display_name": "Python 3 (ipykernel)",
   "language": "python",
   "name": "python3"
  },
  "language_info": {
   "codemirror_mode": {
    "name": "ipython",
    "version": 3
   },
   "file_extension": ".py",
   "mimetype": "text/x-python",
   "name": "python",
   "nbconvert_exporter": "python",
   "pygments_lexer": "ipython3",
   "version": "3.9.6"
  }
 },
 "nbformat": 4,
 "nbformat_minor": 4
}
